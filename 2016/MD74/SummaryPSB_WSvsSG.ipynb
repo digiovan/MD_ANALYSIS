{
 "cells": [
  {
   "cell_type": "markdown",
   "metadata": {},
   "source": [
    "# Summary of PSB Emittance Measurements: WireScanner vs 3 SEM GRIDS"
   ]
  },
  {
   "cell_type": "code",
   "execution_count": 1,
   "metadata": {
    "collapsed": false
   },
   "outputs": [
    {
     "name": "stdout",
     "output_type": "stream",
     "text": [
      "Version 0.03. This is the latest version.\n",
      "Please help me to improve it reporting bugs to guido.sterbini@cern.ch.\n",
      "Your platform is Linux-3.10.0-327.36.3.el7.x86_64-x86_64-with-redhat-6.7-Carbon\n",
      "Your folder is /eos/user/d/digiovan/MD_ANALYSIS/2016/MD74\n",
      "Your IP is 172.17.0.4\n",
      "2017-02-20 10:49:44\n"
     ]
    }
   ],
   "source": [
    "# Guido's GURU toolbox\n",
    "import sys\n",
    "sys.path.append('/eos/user/s/sterbini/MD_ANALYSIS/public/')\n",
    "#you can add it in a the a configuration script to run at the start of SWAN e.g.:\n",
    "# export PYTHONPATH=\"$PYTHONPATH:/eos/user/sb/sterbini/MD_ANALYSIS/public\"\n",
    "from myToolbox import *"
   ]
  },
  {
   "cell_type": "code",
   "execution_count": 2,
   "metadata": {
    "collapsed": false
   },
   "outputs": [
    {
     "name": "stdout",
     "output_type": "stream",
     "text": [
      "Version 0.01.\n",
      "Use it at your risk. In case please report any bug to digiovan@cern.ch.\n"
     ]
    }
   ],
   "source": [
    "# GP's toolbox\n",
    "sys.path.append('/eos/user/d/digiovan/MD_ANALYSIS/public/')\n",
    "from gpToolbox import *"
   ]
  },
  {
   "cell_type": "code",
   "execution_count": 20,
   "metadata": {
    "collapsed": false
   },
   "outputs": [
    {
     "name": "stdout",
     "output_type": "stream",
     "text": [
      "+------------+-----------------------------+----------------------------------+---------------+\n",
      "| Ring/Plane | Emittance Def. SG [mm mrad] | Emittance Full Dec. SG [mm mrad] |    % change   |\n",
      "+------------+-----------------------------+----------------------------------+---------------+\n",
      "|    3/H     |       2.125 +/- 0.035       |         2.194 +/- 0.040          | 3.23 +/- 0.63 |\n",
      "+------------+-----------------------------+----------------------------------+---------------+\n"
     ]
    }
   ],
   "source": [
    "# M A I N    S E T T I N G\n",
    "\n",
    "folder_pickles = 'pickles/'\n",
    "\n",
    "# Uncomment for quick check\n",
    "#print folder_pickles\n",
    "\n",
    "# simple example with pretty table\n",
    "ring  = '3'\n",
    "plane = 'H'\n",
    "\n",
    "pickle_file = folder_pickles + '/dataframe_sem_grid_r' + ring + '_p' + plane\n",
    "\n",
    "# DataFrame from ExtractEmittancePSBSemGrids.ipynb: SEM GRID data\n",
    "sgDataFrame = pnd.read_pickle(pickle_file)\n",
    "\n",
    "fullEmittance  = sgDataFrame['emittanceSGFull'].values\n",
    "deftEmittance  = sgDataFrame['emittanceSG'].values\n",
    "percent_change = (fullEmittance-deftEmittance)/deftEmittance\n",
    "\n",
    "full_avg = np.mean(fullEmittance)\n",
    "full_std = np.std (fullEmittance)\n",
    "\n",
    "deft_avg = np.mean(deftEmittance)\n",
    "deft_std = np.std (deftEmittance)\n",
    "\n",
    "perc_avg = np.mean(percent_change)\n",
    "perc_std = np.std (percent_change)\n",
    "\n",
    "\n",
    "from prettytable import PrettyTable\n",
    "t = PrettyTable(['Ring/Plane', \n",
    "                 'Emittance Def. SG [mm mrad]', \n",
    "                 'Emittance Full Dec. SG [mm mrad]',\n",
    "                 '% change'])\n",
    "\n",
    "t.add_row([ring+'/'+plane, \n",
    "           '{0:.3f} +/- {1:.3f}'.format(deft_avg, deft_std), \n",
    "           '{0:.3f} +/- {1:.3f}'.format(full_avg, full_std),\n",
    "           '{0:.2f} +/- {1:.2f}'.format(perc_avg*100, perc_std*100)])\n",
    "print t"
   ]
  },
  {
   "cell_type": "code",
   "execution_count": 25,
   "metadata": {
    "collapsed": false
   },
   "outputs": [
    {
     "name": "stdout",
     "output_type": "stream",
     "text": [
      "+------------+-----------------------------+----------------------------------+---------------+\n",
      "| Ring/Plane | Emittance Def. SG [mm mrad] | Emittance Full Dec. SG [mm mrad] |    % change   |\n",
      "+------------+-----------------------------+----------------------------------+---------------+\n",
      "|    1/H     |       2.101 +/- 0.055       |         2.106 +/- 0.054          | 0.25 +/- 0.38 |\n",
      "|    1/V     |       1.926 +/- 0.058       |         2.020 +/- 0.051          | 4.89 +/- 0.54 |\n",
      "|    2/H     |       2.162 +/- 0.042       |         2.261 +/- 0.037          | 4.60 +/- 0.54 |\n",
      "|    2/V     |       2.137 +/- 0.066       |         2.281 +/- 0.059          | 6.77 +/- 0.66 |\n",
      "|    3/H     |       2.125 +/- 0.035       |         2.194 +/- 0.040          | 3.23 +/- 0.63 |\n",
      "|    3/V     |       1.967 +/- 0.059       |         2.129 +/- 0.055          | 8.23 +/- 0.82 |\n",
      "|    4/H     |       2.310 +/- 0.045       |         2.399 +/- 0.046          | 3.86 +/- 0.54 |\n",
      "|    4/V     |       2.095 +/- 0.064       |         2.239 +/- 0.058          | 6.87 +/- 0.73 |\n",
      "+------------+-----------------------------+----------------------------------+---------------+\n"
     ]
    }
   ],
   "source": [
    "# table header\n",
    "from prettytable import PrettyTable\n",
    "t = PrettyTable(['Ring/Plane', \n",
    "                 'Emittance Def. SG [mm mrad]', \n",
    "                 'Emittance Full Dec. SG [mm mrad]',\n",
    "                 '% change'])\n",
    "\n",
    "\n",
    "rings  = ['1','2','3','4']\n",
    "planes = ['H','V']\n",
    "\n",
    "for r in rings:\n",
    "    for p in planes:\n",
    "        \n",
    "        pickle_file = folder_pickles + '/dataframe_sem_grid_r' + r + '_p' + p\n",
    "\n",
    "        # DataFrame from ExtractEmittancePSBSemGrids.ipynb: SEM GRID data\n",
    "        sgDataFrame = pnd.read_pickle(pickle_file)\n",
    "\n",
    "        fullEmittance  = sgDataFrame['emittanceSGFull'].values\n",
    "        deftEmittance  = sgDataFrame['emittanceSG'].values\n",
    "        percent_change = (fullEmittance-deftEmittance)/deftEmittance\n",
    "\n",
    "        full_avg = np.mean(fullEmittance)\n",
    "        full_std = np.std (fullEmittance)\n",
    "\n",
    "        deft_avg = np.mean(deftEmittance)\n",
    "        deft_std = np.std (deftEmittance)\n",
    "\n",
    "        perc_avg = np.mean(percent_change)\n",
    "        perc_std = np.std (percent_change)\n",
    "\n",
    "        # add the information in the table\n",
    "        t.add_row([r+'/'+p, \n",
    "               '{0:.3f} +/- {1:.3f}'.format(deft_avg, deft_std), \n",
    "               '{0:.3f} +/- {1:.3f}'.format(full_avg, full_std),\n",
    "               '{0:.2f} +/- {1:.2f}'.format(perc_avg*100, perc_std*100)])\n",
    "\n",
    "print t    "
   ]
  },
  {
   "cell_type": "code",
   "execution_count": 5,
   "metadata": {
    "collapsed": false
   },
   "outputs": [
    {
     "name": "stdout",
     "output_type": "stream",
     "text": [
      "Done!\n"
     ]
    }
   ],
   "source": [
    "# nice editing at the beginning\n",
    "print 'Done!'"
   ]
  }
 ],
 "metadata": {
  "kernelspec": {
   "display_name": "Python 2",
   "language": "python",
   "name": "python2"
  },
  "language_info": {
   "codemirror_mode": {
    "name": "ipython",
    "version": 2
   },
   "file_extension": ".py",
   "mimetype": "text/x-python",
   "name": "python",
   "nbconvert_exporter": "python",
   "pygments_lexer": "ipython2",
   "version": "2.7.10"
  }
 },
 "nbformat": 4,
 "nbformat_minor": 1
}
