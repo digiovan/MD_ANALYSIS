{
 "cells": [
  {
   "cell_type": "markdown",
   "metadata": {},
   "source": [
    "# Summary of PSB Emittance Measurements: WireScanner vs 3 SEM GRIDS"
   ]
  },
  {
   "cell_type": "code",
   "execution_count": 1,
   "metadata": {
    "collapsed": false
   },
   "outputs": [
    {
     "name": "stdout",
     "output_type": "stream",
     "text": [
      "Version 0.03. This is the latest version.\n",
      "Please help me to improve it reporting bugs to guido.sterbini@cern.ch.\n",
      "Your platform is Linux-3.10.0-514.6.1.el7.x86_64-x86_64-with-redhat-6.7-Carbon\n",
      "Your folder is /eos/user/d/digiovan/MD_ANALYSIS/2016/MD74\n",
      "Your IP is 172.17.0.25\n",
      "2017-02-28 15:29:04\n"
     ]
    }
   ],
   "source": [
    "# Guido's GURU toolbox\n",
    "import sys\n",
    "sys.path.append('/eos/user/s/sterbini/MD_ANALYSIS/public/')\n",
    "#you can add it in a the a configuration script to run at the start of SWAN e.g.:\n",
    "# export PYTHONPATH=\"$PYTHONPATH:/eos/user/sb/sterbini/MD_ANALYSIS/public\"\n",
    "from myToolbox import *"
   ]
  },
  {
   "cell_type": "code",
   "execution_count": 2,
   "metadata": {
    "collapsed": false
   },
   "outputs": [
    {
     "name": "stdout",
     "output_type": "stream",
     "text": [
      "Version 0.01.\n",
      "Use it at your risk. In case please report any bug to digiovan@cern.ch.\n"
     ]
    }
   ],
   "source": [
    "# GP's toolbox\n",
    "sys.path.append('/eos/user/d/digiovan/MD_ANALYSIS/public/')\n",
    "from gpToolbox import *"
   ]
  },
  {
   "cell_type": "code",
   "execution_count": 3,
   "metadata": {
    "collapsed": false
   },
   "outputs": [
    {
     "name": "stdout",
     "output_type": "stream",
     "text": [
      "+------------+-----------------------------+----------------------------------+---------------+\n",
      "| Ring/Plane | Emittance Def. SG [mm mrad] | Emittance Full Dec. SG [mm mrad] |    % change   |\n",
      "+------------+-----------------------------+----------------------------------+---------------+\n",
      "|    3/H     |       2.125 +/- 0.035       |         2.154 +/- 0.040          | 1.35 +/- 0.70 |\n",
      "+------------+-----------------------------+----------------------------------+---------------+\n"
     ]
    }
   ],
   "source": [
    "# M A I N    S E T T I N G\n",
    "\n",
    "folder_pickles = 'pickles/'\n",
    "\n",
    "# Uncomment for quick check\n",
    "#print folder_pickles\n",
    "\n",
    "# simple example with pretty table\n",
    "ring  = '3'\n",
    "plane = 'H'\n",
    "\n",
    "pickle_file = folder_pickles + '/sem/dataframe_sem_grid_r' + ring + '_p' + plane\n",
    "\n",
    "# DataFrame from ExtractEmittancePSBSemGrids.ipynb: SEM GRID data\n",
    "sgDataFrame = pnd.read_pickle(pickle_file)\n",
    "\n",
    "fullEmittance  = sgDataFrame['emittanceSGFull'].values\n",
    "deftEmittance  = sgDataFrame['emittanceSG'].values\n",
    "percent_change = (fullEmittance-deftEmittance)/deftEmittance\n",
    "\n",
    "full_avg = np.mean(fullEmittance)\n",
    "full_std = np.std (fullEmittance)\n",
    "\n",
    "deft_avg = np.mean(deftEmittance)\n",
    "deft_std = np.std (deftEmittance)\n",
    "\n",
    "perc_avg = np.mean(percent_change)\n",
    "perc_std = np.std (percent_change)\n",
    "\n",
    "\n",
    "from prettytable import PrettyTable\n",
    "t = PrettyTable(['Ring/Plane', \n",
    "                 'Emittance Def. SG [mm mrad]', \n",
    "                 'Emittance Full Dec. SG [mm mrad]',\n",
    "                 '% change'])\n",
    "\n",
    "t.add_row([ring+'/'+plane, \n",
    "           '{0:.3f} +/- {1:.3f}'.format(deft_avg, deft_std), \n",
    "           '{0:.3f} +/- {1:.3f}'.format(full_avg, full_std),\n",
    "           '{0:.2f} +/- {1:.2f}'.format(perc_avg*100, perc_std*100)])\n",
    "print t"
   ]
  },
  {
   "cell_type": "code",
   "execution_count": 12,
   "metadata": {
    "collapsed": false
   },
   "outputs": [
    {
     "name": "stdout",
     "output_type": "stream",
     "text": [
      "+------------+-----------------------------+----------------------------------+----------------+\n",
      "| Ring/Plane | Emittance Def. SG [mm mrad] | Emittance Full Dec. SG [mm mrad] |    % change    |\n",
      "+------------+-----------------------------+----------------------------------+----------------+\n",
      "|    1/H     |       76.916 +/- 1.125      |         77.903 +/- 1.278         | +1.28 +/- 0.37 |\n",
      "|    1/V     |       82.078 +/- 1.363      |         79.937 +/- 1.689         | -2.61 +/- 0.73 |\n",
      "|    2/H     |       75.370 +/- 1.230      |         72.977 +/- 1.143         | -3.17 +/- 0.60 |\n",
      "|    2/V     |       77.686 +/- 1.571      |         73.461 +/- 1.384         | -5.43 +/- 0.68 |\n",
      "|    3/H     |       75.342 +/- 1.488      |         74.348 +/- 1.840         | -1.33 +/- 0.68 |\n",
      "|    3/V     |       80.758 +/- 1.400      |         75.274 +/- 1.774         | -6.80 +/- 0.79 |\n",
      "|    4/H     |       70.647 +/- 1.336      |         68.999 +/- 1.406         | -2.33 +/- 0.63 |\n",
      "|    4/V     |       79.318 +/- 1.786      |         75.307 +/- 1.526         | -5.05 +/- 0.79 |\n",
      "+------------+-----------------------------+----------------------------------+----------------+\n"
     ]
    }
   ],
   "source": [
    "# table header\n",
    "from prettytable import PrettyTable\n",
    "t = PrettyTable(['Ring/Plane', \n",
    "                 'Emittance Def. SG [mm mrad]', \n",
    "                 'Emittance Full Dec. SG [mm mrad]',\n",
    "                 '% change'])\n",
    "\n",
    "\n",
    "rings  = ['1','2','3','4']\n",
    "planes = ['H','V']\n",
    "\n",
    "for r in rings:\n",
    "    for p in planes:\n",
    "        \n",
    "        pickle_file = folder_pickles + '/sem/dataframe_sem_grid_r' + r + '_p' + p\n",
    "\n",
    "        # DataFrame from ExtractEmittancePSBSemGrids.ipynb: SEM GRID data\n",
    "        sgDataFrame = pnd.read_pickle(pickle_file)\n",
    "\n",
    "        intensity_PSB  = sgDataFrame['BR_BCTDC.Acquisition.value.extIntensityRing'+r].values\n",
    "        fullEmittance  = intensity_PSB/sgDataFrame['emittanceSGFull'].values\n",
    "        deftEmittance  = intensity_PSB/sgDataFrame['emittanceSG'].values\n",
    "        percent_change = (fullEmittance-deftEmittance)/deftEmittance\n",
    "\n",
    "        full_avg = np.mean(fullEmittance)\n",
    "        full_std = np.std (fullEmittance)\n",
    "\n",
    "        deft_avg = np.mean(deftEmittance)\n",
    "        deft_std = np.std (deftEmittance)\n",
    "\n",
    "        perc_avg = np.mean(percent_change)\n",
    "        perc_std = np.std (percent_change)\n",
    "\n",
    "        # add the information in the table\n",
    "        t.add_row([r+'/'+p, \n",
    "               '{0:.3f}  +/- {1:.3f}'.format(deft_avg, deft_std), \n",
    "               '{0:.3f}  +/- {1:.3f}'.format(full_avg, full_std),\n",
    "               '{0:+.2f} +/- {1:.2f}'.format(perc_avg*100, perc_std*100)])\n",
    "\n",
    "print t    "
   ]
  },
  {
   "cell_type": "code",
   "execution_count": 11,
   "metadata": {
    "collapsed": false
   },
   "outputs": [
    {
     "name": "stdout",
     "output_type": "stream",
     "text": [
      "+------------+-----------------------------+----------------------------------+----------------+\n",
      "| Ring/Plane | Emittance Def. WS [mm mrad] | Emittance Full Dec. WS [mm mrad] |    % change    |\n",
      "+------------+-----------------------------+----------------------------------+----------------+\n",
      "|    1/H     |       94.880 +/- 3.647      |         87.418 +/- 3.526         | -7.85 +/- 1.88 |\n",
      "|    1/V     |       82.227 +/- 1.737      |         82.426 +/- 1.743         | +0.24 +/- 0.01 |\n",
      "|    2/H     |       81.434 +/- 2.348      |         74.774 +/- 2.649         | -8.18 +/- 1.58 |\n",
      "|    2/V     |       79.645 +/- 3.216      |         79.648 +/- 3.217         | +0.00 +/- 0.00 |\n",
      "|    3/H     |      100.399 +/- 4.834      |         92.429 +/- 4.808         | -7.94 +/- 1.92 |\n",
      "|    3/V     |       82.657 +/- 1.525      |         82.685 +/- 1.525         | +0.03 +/- 0.00 |\n",
      "|    4/H     |       82.563 +/- 2.240      |         75.542 +/- 2.456         | -8.50 +/- 1.66 |\n",
      "|    4/V     |       79.555 +/- 2.577      |         79.830 +/- 2.603         | +0.35 +/- 0.03 |\n",
      "+------------+-----------------------------+----------------------------------+----------------+\n"
     ]
    }
   ],
   "source": [
    "t = PrettyTable(['Ring/Plane', \n",
    "                 'Emittance Def. WS [mm mrad]', \n",
    "                 'Emittance Full Dec. WS [mm mrad]',\n",
    "                 '% change'])\n",
    "\n",
    "\n",
    "rings  = ['1','2','3','4']\n",
    "planes = ['H','V']\n",
    "\n",
    "for r in rings:\n",
    "    for p in planes:\n",
    "        \n",
    "        pickle_file = folder_pickles + '/WS/dataframe_WS_r' + r + '_p' + p\n",
    "\n",
    "        # DataFrame from ExtractEmittancePSBSemGrids.ipynb: SEM GRID data\n",
    "        wsDataFrame = pnd.read_pickle(pickle_file)\n",
    "\n",
    "        intensity_PSB  = wsDataFrame['BR_BCTDC.Acquisition.value.extIntensityRing'+r].values\n",
    "        fullEmittance  = intensity_PSB/wsDataFrame['emittance_um'].values\n",
    "        deftEmittance  = intensity_PSB/wsDataFrame['emittance_um_old'].values\n",
    "        percent_change = (fullEmittance-deftEmittance)/deftEmittance\n",
    "\n",
    "        full_avg = np.mean(fullEmittance)\n",
    "        full_std = np.std (fullEmittance)\n",
    "\n",
    "        deft_avg = np.mean(deftEmittance)\n",
    "        deft_std = np.std (deftEmittance)\n",
    "\n",
    "        perc_avg = np.mean(percent_change)\n",
    "        perc_std = np.std (percent_change)\n",
    "\n",
    "        # add the information in the table\n",
    "        t.add_row([r+'/'+p, \n",
    "               '{0:.3f}  +/- {1:.3f}'.format(deft_avg, deft_std), \n",
    "               '{0:.3f}  +/- {1:.3f}'.format(full_avg, full_std),\n",
    "               '{0:+.2f} +/- {1:.2f}'.format(perc_avg*100, perc_std*100)])\n",
    "\n",
    "print t  "
   ]
  },
  {
   "cell_type": "code",
   "execution_count": 13,
   "metadata": {
    "collapsed": false
   },
   "outputs": [
    {
     "name": "stdout",
     "output_type": "stream",
     "text": [
      "+------------+-----------------------------------+----------------------------------------+----------------+\n",
      "| Ring/Plane | Emittance Def. SG w/ WS [mm mrad] | Emittance Full Dec. SG w/ WS [mm mrad] |    % change    |\n",
      "+------------+-----------------------------------+----------------------------------------+----------------+\n",
      "|    1/H     |         75.422  +/- 1.871         |           76.373  +/- 2.113            | +1.25 +/- 0.40 |\n",
      "|    1/V     |         80.105  +/- 1.048         |           78.405  +/- 1.601            | -2.13 +/- 0.91 |\n",
      "|    2/H     |         73.687  +/- 1.270         |           71.453  +/- 1.183            | -3.03 +/- 0.69 |\n",
      "|    2/V     |         76.242  +/- 2.451         |           72.329  +/- 2.114            | -5.12 +/- 0.72 |\n",
      "|    3/H     |         73.084  +/- 1.532         |           72.087  +/- 1.901            | -1.38 +/- 0.65 |\n",
      "|    3/V     |         79.030  +/- 1.344         |           73.903  +/- 1.667            | -6.50 +/- 0.67 |\n",
      "|    4/H     |         69.018  +/- 1.260         |           67.483  +/- 1.286            | -2.22 +/- 0.51 |\n",
      "|    4/V     |         77.188  +/- 1.586         |           73.418  +/- 1.556            | -4.88 +/- 0.86 |\n",
      "+------------+-----------------------------------+----------------------------------------+----------------+\n"
     ]
    }
   ],
   "source": [
    "t = PrettyTable(['Ring/Plane', \n",
    "                 'Emittance Def. SG w/ WS [mm mrad]', \n",
    "                 'Emittance Full Dec. SG w/ WS [mm mrad]',\n",
    "                 '% change'])\n",
    "\n",
    "\n",
    "rings  = ['1','2','3','4']\n",
    "planes = ['H','V']\n",
    "\n",
    "for r in rings:\n",
    "    for p in planes:\n",
    "        \n",
    "        pickle_file = folder_pickles + '/sem_WS_launched/dataframe_sem_grid_r' + r + '_p' + p\n",
    "\n",
    "        # DataFrame from ExtractEmittancePSBSemGrids.ipynb: SEM GRID data\n",
    "        sgDataFrame = pnd.read_pickle(pickle_file)\n",
    "\n",
    "        intensity_PSB  = sgDataFrame['BR_BCTDC.Acquisition.value.extIntensityRing'+r].values\n",
    "        fullEmittance  = intensity_PSB/sgDataFrame['emittanceSGFull'].values\n",
    "        deftEmittance  = intensity_PSB/sgDataFrame['emittanceSG'].values\n",
    "        percent_change = (fullEmittance-deftEmittance)/deftEmittance\n",
    "\n",
    "        full_avg = np.mean(fullEmittance)\n",
    "        full_std = np.std (fullEmittance)\n",
    "\n",
    "        deft_avg = np.mean(deftEmittance)\n",
    "        deft_std = np.std (deftEmittance)\n",
    "\n",
    "        perc_avg = np.mean(percent_change)\n",
    "        perc_std = np.std (percent_change)\n",
    "\n",
    "        # add the information in the table\n",
    "        t.add_row([r+'/'+p, \n",
    "               '{0:.3f}  +/- {1:.3f}'.format(deft_avg, deft_std), \n",
    "               '{0:.3f}  +/- {1:.3f}'.format(full_avg, full_std),\n",
    "               '{0:+.2f} +/- {1:.2f}'.format(perc_avg*100, perc_std*100)])\n",
    "\n",
    "print t    "
   ]
  },
  {
   "cell_type": "code",
   "execution_count": 19,
   "metadata": {
    "collapsed": false
   },
   "outputs": [
    {
     "name": "stdout",
     "output_type": "stream",
     "text": [
      "+------------+-----------------------------+----------------------------------+----------------+\n",
      "| Ring/Plane | Emittance Def. SG [mm mrad] | Emittance Full Dec. SG [mm mrad] |    % change    |\n",
      "+------------+-----------------------------+----------------------------------+----------------+\n",
      "|    3/V     |      81.668  +/- 1.973      |        76.045  +/- 2.348         | -6.90 +/- 0.85 |\n",
      "+------------+-----------------------------+----------------------------------+----------------+\n",
      "+------------+-----------------------------+----------------------------------+----------------+\n",
      "| Ring/Plane | Emittance Def. WS [mm mrad] | Emittance Full Dec. WS [mm mrad] |    % change    |\n",
      "+------------+-----------------------------+----------------------------------+----------------+\n",
      "|    3/V     |      82.657  +/- 1.525      |        82.685  +/- 1.525         | +0.03 +/- 0.00 |\n",
      "+------------+-----------------------------+----------------------------------+----------------+\n",
      "+------------+-----------------------------------+----------------------------------------+----------------+\n",
      "| Ring/Plane | Emittance Def. SG w/ WS [mm mrad] | Emittance Full Dec. SG w/ WS [mm mrad] |    % change    |\n",
      "+------------+-----------------------------------+----------------------------------------+----------------+\n",
      "|    3/V     |         79.030  +/- 1.344         |           73.903  +/- 1.667            | -6.50 +/- 0.67 |\n",
      "+------------+-----------------------------------+----------------------------------------+----------------+\n"
     ]
    }
   ],
   "source": [
    "# table header\n",
    "from prettytable import PrettyTable\n",
    "t = PrettyTable(['Ring/Plane', \n",
    "                 'Emittance Def. SG [mm mrad]', \n",
    "                 'Emittance Full Dec. SG [mm mrad]',\n",
    "                 '% change'])\n",
    "\n",
    "\n",
    "rings  = ['3']\n",
    "planes = ['V']\n",
    "\n",
    "for r in rings:\n",
    "    for p in planes:\n",
    "        \n",
    "        pickle_file = folder_pickles + '/sem/no_rec_kick/dataframe_sem_grid_r' + r + '_p' + p\n",
    "\n",
    "        # DataFrame from ExtractEmittancePSBSemGrids.ipynb: SEM GRID data\n",
    "        sgDataFrame = pnd.read_pickle(pickle_file)\n",
    "\n",
    "        intensity_PSB  = sgDataFrame['BR_BCTDC.Acquisition.value.extIntensityRing'+r].values\n",
    "        fullEmittance  = intensity_PSB/sgDataFrame['emittanceSGFull'].values\n",
    "        deftEmittance  = intensity_PSB/sgDataFrame['emittanceSG'].values\n",
    "        percent_change = (fullEmittance-deftEmittance)/deftEmittance\n",
    "\n",
    "        full_avg = np.mean(fullEmittance)\n",
    "        full_std = np.std (fullEmittance)\n",
    "\n",
    "        deft_avg = np.mean(deftEmittance)\n",
    "        deft_std = np.std (deftEmittance)\n",
    "\n",
    "        perc_avg = np.mean(percent_change)\n",
    "        perc_std = np.std (percent_change)\n",
    "\n",
    "        # add the information in the table\n",
    "        t.add_row([r+'/'+p, \n",
    "               '{0:.3f}  +/- {1:.3f}'.format(deft_avg, deft_std), \n",
    "               '{0:.3f}  +/- {1:.3f}'.format(full_avg, full_std),\n",
    "               '{0:+.2f} +/- {1:.2f}'.format(perc_avg*100, perc_std*100)])\n",
    "\n",
    "        \n",
    "t_ws = PrettyTable(['Ring/Plane', \n",
    "                    'Emittance Def. WS [mm mrad]', \n",
    "                    'Emittance Full Dec. WS [mm mrad]',\n",
    "                    '% change'])\n",
    "\n",
    "\n",
    "for r in rings:\n",
    "    for p in planes:\n",
    "        \n",
    "        pickle_file = folder_pickles + '/WS/dataframe_WS_r' + r + '_p' + p\n",
    "\n",
    "        # DataFrame from ExtractEmittancePSBSemGrids.ipynb: SEM GRID data\n",
    "        wsDataFrame = pnd.read_pickle(pickle_file)\n",
    "\n",
    "        intensity_PSB  = wsDataFrame['BR_BCTDC.Acquisition.value.extIntensityRing'+r].values\n",
    "        fullEmittance  = intensity_PSB/wsDataFrame['emittance_um'].values\n",
    "        deftEmittance  = intensity_PSB/wsDataFrame['emittance_um_old'].values\n",
    "        percent_change = (fullEmittance-deftEmittance)/deftEmittance\n",
    "\n",
    "        full_avg = np.mean(fullEmittance)\n",
    "        full_std = np.std (fullEmittance)\n",
    "\n",
    "        deft_avg = np.mean(deftEmittance)\n",
    "        deft_std = np.std (deftEmittance)\n",
    "\n",
    "        perc_avg = np.mean(percent_change)\n",
    "        perc_std = np.std (percent_change)\n",
    "\n",
    "        # add the information in the table\n",
    "        t_ws.add_row([r+'/'+p, \n",
    "                   '{0:.3f}  +/- {1:.3f}'.format(deft_avg, deft_std), \n",
    "                   '{0:.3f}  +/- {1:.3f}'.format(full_avg, full_std),\n",
    "                   '{0:+.2f} +/- {1:.2f}'.format(perc_avg*100, perc_std*100)])\n",
    "\n",
    "        \n",
    "t_sem_WS = PrettyTable(['Ring/Plane', \n",
    "                     'Emittance Def. SG w/ WS [mm mrad]', \n",
    "                     'Emittance Full Dec. SG w/ WS [mm mrad]',\n",
    "                     '% change'])\n",
    "\n",
    "\n",
    "for r in rings:\n",
    "    for p in planes:\n",
    "        \n",
    "        pickle_file = folder_pickles + '/sem_WS_launched/dataframe_sem_grid_r' + r + '_p' + p\n",
    "\n",
    "        # DataFrame from ExtractEmittancePSBSemGrids.ipynb: SEM GRID data\n",
    "        sgDataFrame = pnd.read_pickle(pickle_file)\n",
    "\n",
    "        intensity_PSB  = sgDataFrame['BR_BCTDC.Acquisition.value.extIntensityRing'+r].values\n",
    "        fullEmittance  = intensity_PSB/sgDataFrame['emittanceSGFull'].values\n",
    "        deftEmittance  = intensity_PSB/sgDataFrame['emittanceSG'].values\n",
    "        percent_change = (fullEmittance-deftEmittance)/deftEmittance\n",
    "\n",
    "        full_avg = np.mean(fullEmittance)\n",
    "        full_std = np.std (fullEmittance)\n",
    "\n",
    "        deft_avg = np.mean(deftEmittance)\n",
    "        deft_std = np.std (deftEmittance)\n",
    "\n",
    "        perc_avg = np.mean(percent_change)\n",
    "        perc_std = np.std (percent_change)\n",
    "\n",
    "        # add the information in the table\n",
    "        t_sem_WS.add_row([r+'/'+p, \n",
    "                       '{0:.3f}  +/- {1:.3f}'.format(deft_avg, deft_std), \n",
    "                       '{0:.3f}  +/- {1:.3f}'.format(full_avg, full_std),\n",
    "                       '{0:+.2f} +/- {1:.2f}'.format(perc_avg*100, perc_std*100)])\n",
    "        \n",
    "print t        \n",
    "print t_ws\n",
    "print t_sem_WS\n",
    "\n"
   ]
  },
  {
   "cell_type": "code",
   "execution_count": 7,
   "metadata": {
    "collapsed": false
   },
   "outputs": [],
   "source": [
    "#wsDataFrame.iloc[0]"
   ]
  },
  {
   "cell_type": "code",
   "execution_count": 8,
   "metadata": {
    "collapsed": false
   },
   "outputs": [
    {
     "name": "stdout",
     "output_type": "stream",
     "text": [
      "Done!\n"
     ]
    }
   ],
   "source": [
    "# nice editing at the beginning\n",
    "print 'Done!'"
   ]
  },
  {
   "cell_type": "code",
   "execution_count": 9,
   "metadata": {
    "collapsed": true
   },
   "outputs": [],
   "source": [
    "# TO DO\n",
    "\n",
    "# rename folders sem_WS_launched to ws_sem for consistency and re-organize the GIT repository\n",
    "# write up\n"
   ]
  }
 ],
 "metadata": {
  "kernelspec": {
   "display_name": "Python 2",
   "language": "python",
   "name": "python2"
  },
  "language_info": {
   "codemirror_mode": {
    "name": "ipython",
    "version": 2
   },
   "file_extension": ".py",
   "mimetype": "text/x-python",
   "name": "python",
   "nbconvert_exporter": "python",
   "pygments_lexer": "ipython2",
   "version": "2.7.10"
  }
 },
 "nbformat": 4,
 "nbformat_minor": 1
}
